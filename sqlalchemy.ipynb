{
  "nbformat": 4,
  "nbformat_minor": 0,
  "metadata": {
    "colab": {
      "name": "sqlalchemy.ipynb",
      "provenance": [],
      "authorship_tag": "ABX9TyMaj2N/EDJKo1Xgcct63EVX",
      "include_colab_link": true
    },
    "kernelspec": {
      "name": "python3",
      "display_name": "Python 3"
    },
    "language_info": {
      "name": "python"
    },
    "gpuClass": "standard"
  },
  "cells": [
    {
      "cell_type": "markdown",
      "metadata": {
        "id": "view-in-github",
        "colab_type": "text"
      },
      "source": [
        "<a href=\"https://colab.research.google.com/github/Kevin12-0/fastapi/blob/main/sqlalchemy.ipynb\" target=\"_parent\"><img src=\"https://colab.research.google.com/assets/colab-badge.svg\" alt=\"Open In Colab\"/></a>"
      ]
    },
    {
      "cell_type": "markdown",
      "source": [
        "SQL ORM"
      ],
      "metadata": {
        "id": "sAfJKVx4ke9P"
      }
    },
    {
      "cell_type": "code",
      "execution_count": 2,
      "metadata": {
        "colab": {
          "base_uri": "https://localhost:8080/"
        },
        "id": "bfB4Sn7skZ6k",
        "outputId": "ae23d9f1-8ec6-4f67-9c81-fbfedbf28abe"
      },
      "outputs": [
        {
          "output_type": "stream",
          "name": "stdout",
          "text": [
            "Looking in indexes: https://pypi.org/simple, https://us-python.pkg.dev/colab-wheels/public/simple/\n",
            "Requirement already satisfied: SQLAlchemy in /usr/local/lib/python3.7/dist-packages (1.4.39)\n",
            "Requirement already satisfied: greenlet!=0.4.17 in /usr/local/lib/python3.7/dist-packages (from SQLAlchemy) (1.1.2)\n",
            "Requirement already satisfied: importlib-metadata in /usr/local/lib/python3.7/dist-packages (from SQLAlchemy) (4.12.0)\n",
            "Requirement already satisfied: typing-extensions>=3.6.4 in /usr/local/lib/python3.7/dist-packages (from importlib-metadata->SQLAlchemy) (4.1.1)\n",
            "Requirement already satisfied: zipp>=0.5 in /usr/local/lib/python3.7/dist-packages (from importlib-metadata->SQLAlchemy) (3.8.1)\n"
          ]
        }
      ],
      "source": [
        "!pip install SQLAlchemy"
      ]
    },
    {
      "cell_type": "markdown",
      "source": [
        "import sqlchemy"
      ],
      "metadata": {
        "id": "9lVHx6HrlSBN"
      }
    },
    {
      "cell_type": "code",
      "source": [
        "from sqlalchemy import *"
      ],
      "metadata": {
        "id": "otOKd_-UlSzr"
      },
      "execution_count": 3,
      "outputs": []
    },
    {
      "cell_type": "markdown",
      "source": [
        "craecion de engenie"
      ],
      "metadata": {
        "id": "dgJD5y9Dlx1Z"
      }
    },
    {
      "cell_type": "code",
      "source": [
        "engenie = create_engine(\"sqlite:///prueba.db\")"
      ],
      "metadata": {
        "id": "nnk_JDqjlfg-"
      },
      "execution_count": 4,
      "outputs": []
    },
    {
      "cell_type": "code",
      "source": [
        "metadata =  MetaData()"
      ],
      "metadata": {
        "id": "k4uU0MMml1Xx"
      },
      "execution_count": 5,
      "outputs": []
    },
    {
      "cell_type": "markdown",
      "source": [
        "Creacion de tabla de la base de datos"
      ],
      "metadata": {
        "id": "C_CVzRPVpytp"
      }
    },
    {
      "cell_type": "code",
      "source": [
        "clientes = Table(\n",
        "    \"clientes\", metadata,\n",
        "    Column(\"id cliente\", Integer, primary_key=True),\n",
        "    Column(\"nombre\", String, nullable = False),\n",
        "    Column(\"email\", String, nullable = False)\n",
        ")"
      ],
      "metadata": {
        "id": "yhMVE5Rol53m"
      },
      "execution_count": 6,
      "outputs": []
    },
    {
      "cell_type": "code",
      "source": [
        "metadata.create_all(engenie)"
      ],
      "metadata": {
        "id": "edLrA1k3nFlY"
      },
      "execution_count": 8,
      "outputs": []
    },
    {
      "cell_type": "markdown",
      "source": [
        "insetar datos"
      ],
      "metadata": {
        "id": "X7D6bmpdqLRc"
      }
    },
    {
      "cell_type": "code",
      "source": [
        "stmt = insert(clientes).values(nombre = \"Cliente 1\", email = \"cliente1@email.com\")\n",
        "print(type(stmt))\n",
        "print(stmt)"
      ],
      "metadata": {
        "colab": {
          "base_uri": "https://localhost:8080/"
        },
        "id": "JN2473IunWtJ",
        "outputId": "6c2b0aca-fbac-4b6b-9f48-5e4cd63e4c6d"
      },
      "execution_count": 9,
      "outputs": [
        {
          "output_type": "stream",
          "name": "stdout",
          "text": [
            "<class 'sqlalchemy.sql.dml.Insert'>\n",
            "INSERT INTO clientes (nombre, email) VALUES (:nombre, :email)\n"
          ]
        }
      ]
    },
    {
      "cell_type": "markdown",
      "source": [
        "Insertar varios datos"
      ],
      "metadata": {
        "id": "NQz1K6-QqVvn"
      }
    },
    {
      "cell_type": "code",
      "source": [
        "data = [\n",
        "    {\"nombre\":\"Cliente 2\", \"email\":\"clinete2@email.com\"},\n",
        "    {\"nombre\":\"Cliente 3\", \"email\":\"cliente3@email.com\"},\n",
        "    {\"nombre\":\"Cliente 4\", \"email\":\"cliente4@email.com\"}\n",
        "]"
      ],
      "metadata": {
        "id": "7GgLdYxeqYU_"
      },
      "execution_count": 14,
      "outputs": []
    },
    {
      "cell_type": "code",
      "source": [
        "stmt = insert(clientes).values(data)\n",
        "print(type(stmt))\n",
        "print(stmt)"
      ],
      "metadata": {
        "colab": {
          "base_uri": "https://localhost:8080/"
        },
        "id": "JSTmfw-4rFdK",
        "outputId": "b624fd6f-133d-4338-c511-3c82494448cd"
      },
      "execution_count": 15,
      "outputs": [
        {
          "output_type": "stream",
          "name": "stdout",
          "text": [
            "<class 'sqlalchemy.sql.dml.Insert'>\n",
            "INSERT INTO clientes (nombre, email) VALUES (:nombre_m0, :email_m0), (:nombre_m1, :email_m1), (:nombre_m2, :email_m2)\n"
          ]
        }
      ]
    },
    {
      "cell_type": "code",
      "source": [
        "with engenie.connect() as conn:\n",
        "  result = conn.execute(stmt)"
      ],
      "metadata": {
        "id": "zR4D9p1IoFsz"
      },
      "execution_count": 16,
      "outputs": []
    },
    {
      "cell_type": "markdown",
      "source": [
        "mostrar los datos"
      ],
      "metadata": {
        "id": "902Q3robqQQw"
      }
    },
    {
      "cell_type": "code",
      "source": [
        "stmt = select(clientes)\n",
        "print(type(stmt))\n",
        "print(stmt)"
      ],
      "metadata": {
        "colab": {
          "base_uri": "https://localhost:8080/"
        },
        "id": "rQn8c5_7o99X",
        "outputId": "b485ef30-d0b0-4ffe-bfbd-505f3da03bf5"
      },
      "execution_count": 18,
      "outputs": [
        {
          "output_type": "stream",
          "name": "stdout",
          "text": [
            "<class 'sqlalchemy.sql.selectable.Select'>\n",
            "SELECT clientes.\"id cliente\", clientes.nombre, clientes.email \n",
            "FROM clientes\n"
          ]
        }
      ]
    },
    {
      "cell_type": "code",
      "source": [
        "with engenie.connect() as conn:\n",
        "  result = conn.execute(stmt)\n",
        "  for row in result.fetchall():\n",
        "    print(row)"
      ],
      "metadata": {
        "colab": {
          "base_uri": "https://localhost:8080/"
        },
        "id": "oIIYD-05pHvc",
        "outputId": "202e88f2-b1e0-4fe6-eb85-f8ff995fb7e5"
      },
      "execution_count": 19,
      "outputs": [
        {
          "output_type": "stream",
          "name": "stdout",
          "text": [
            "(1, 'Cliente 1', 'cliente1@email.com')\n",
            "(2, 'Cliente 2', 'clinete2@email.com')\n",
            "(3, 'Cliente 3', 'cliente3@email.com')\n",
            "(4, 'Cliente 4', 'cliente4@email.com')\n",
            "(5, 'Cliente 2', 'clinete2@email.com')\n",
            "(6, 'Cliente 3', 'cliente3@email.com')\n",
            "(7, 'Cliente 4', 'cliente4@email.com')\n"
          ]
        }
      ]
    }
  ]
}